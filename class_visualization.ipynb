{
  "nbformat": 4,
  "nbformat_minor": 0,
  "metadata": {
    "colab": {
      "name": "class-visualization.ipynb",
      "private_outputs": true,
      "provenance": [],
      "collapsed_sections": [],
      "authorship_tag": "ABX9TyOSBq+6oJEgCMXgMUyFXFKJ",
      "include_colab_link": true
    },
    "kernelspec": {
      "name": "python3",
      "display_name": "Python 3"
    },
    "language_info": {
      "name": "python"
    }
  },
  "cells": [
    {
      "cell_type": "markdown",
      "metadata": {
        "id": "view-in-github",
        "colab_type": "text"
      },
      "source": [
        "<a href=\"https://colab.research.google.com/github/mehdi-or/203B/blob/master/class_visualization.ipynb\" target=\"_parent\"><img src=\"https://colab.research.google.com/assets/colab-badge.svg\" alt=\"Open In Colab\"/></a>"
      ]
    },
    {
      "cell_type": "code",
      "metadata": {
        "id": "3Sxc8jD5SEAF"
      },
      "source": [
        "import numpy as np\n",
        "import matplotlib.pyplot as plt\n",
        "import pandas as pd"
      ],
      "execution_count": null,
      "outputs": []
    },
    {
      "cell_type": "code",
      "metadata": {
        "id": "5u2z-w6VSJEQ"
      },
      "source": [
        "from google.colab import drive\n",
        "drive.mount('/content/gdrive', force_remount=False)"
      ],
      "execution_count": null,
      "outputs": []
    },
    {
      "cell_type": "code",
      "metadata": {
        "id": "mD68KL4uSHfF"
      },
      "source": [
        "def load_data(subject):\n",
        "    data0 = pd.read_csv('/content/gdrive/MyDrive/Colab Notebooks/AE + classifier for fMRI/VT2PFC/s'+ str(subject)+'/s'+ str(subject)+'BN_dim_20.csv', header=None )\n",
        "    data = data0.values\n",
        "    return(data)"
      ],
      "execution_count": null,
      "outputs": []
    },
    {
      "cell_type": "code",
      "metadata": {
        "id": "Zu5Z86cSS7zp"
      },
      "source": [
        "label0 = pd.read_csv('/content/gdrive/MyDrive/Colab Notebooks/AE with classifier hooked/label.csv')\n",
        "label = label0.values\n",
        "categ_aranged = pd.read_csv('/content/gdrive/MyDrive/Colab Notebooks/AE + classifier for fMRI/PFC/s45/unique_aranged.csv', header=None).iloc[:,1].values"
      ],
      "execution_count": null,
      "outputs": []
    },
    {
      "cell_type": "code",
      "metadata": {
        "id": "TMYdNsMgSdYI"
      },
      "source": [
        "subject = range(37,47)\n",
        "dim = [1500, 1000, 500, 250, 200, 150, 100, 60, 50, 30, 20, 15, 10, 5, 2]\n",
        "data = load_data(subject[0])\n",
        "#corr = pd.read_csv('/content/gdrive/MyDrive/Colab Notebooks/AE + classifier for fMRI/PFC/s' + str(subject[8])+ '/' + 's'+ str(subject[8]) + 'correlation_' +str(dim[0])+'.csv', header=None ).values\n",
        "#indx = int(corr.shape[0]/2)\n",
        "#corr= corr[indx:,:indx]\n",
        "corr = np.corrcoef(data)\n",
        "plt.imshow(corr)\n",
        "map = pd.read_csv('/content/gdrive/MyDrive/Colab Notebooks/AE + classifier for fMRI/PFC/s' + str(subject[8])+ '/' + 's'+ str(subject[8]) + 'map_test_indx' +str(dim[0])+'.csv', header=None ).values.astype(int)"
      ],
      "execution_count": null,
      "outputs": []
    },
    {
      "cell_type": "code",
      "metadata": {
        "id": "wgUSFaybVDu3"
      },
      "source": [
        "test_label = label[map]\n",
        "test_label= test_label.reshape(test_label.shape[0])\n",
        "#pd.DataFrame(np.unique(test_label)).to_csv('/content/gdrive/MyDrive/Colab Notebooks/AE + classifier for fMRI/PFC/s' + str(subject[8]) + '/unique.csv')"
      ],
      "execution_count": null,
      "outputs": []
    },
    {
      "cell_type": "code",
      "metadata": {
        "id": "TRyX7S6fDK0S"
      },
      "source": [
        "diag_index = range(map.shape[0]) # to find the index of the diagonals of the test-set matrix\n",
        "corr_zero = corr\n",
        "corr_zero[diag_index, diag_index]=0 # to remove the auto-correlaiton of the trials\n",
        "corr_df = pd.DataFrame(corr_zero) # turning it to DataFrame to make my life easier by ALOT\n",
        "corr_df.columns=test_label # to name the columns of the correlation\n",
        "corr_df.index = test_label # to name the rows of the correlation\n",
        "unique_class = np.unique(test_label) # to find what uniqw classes we have in the test-set\n",
        "class_matrix_corr = np.zeros((len(unique_class),len(unique_class))) # this is the correlation of the mean values of the classes\n",
        "#trial_matrix_corr = np.zeros(corr.shape) # this is the correlation of every trials based on the arranged categories\n",
        "#trial_matrix_corr =np.zeros(corr.shape) # this is the correlation of every trials based on the arranged categories\n",
        "for i, row in enumerate(categ_aranged):\n",
        "  for j, column in enumerate(categ_aranged):\n",
        "    #trial_matrix_corr [row, column]=  corr_df.loc[row][column]\n",
        "    if i==j:\n",
        "      n_examples = np.sqrt(corr_df.loc[row][column].size) # this is for the case of autocorrelation that we have already put zeros for them so it is fair to not consider them while getting the mean\n",
        "      print( row + ' = ' + str(n_examples) + ' trials')\n",
        "      class_matrix_corr [i,j] = corr_df.loc[row][column].sum().sum()/(n_examples**2 - n_examples)\n",
        "    else:\n",
        "      class_matrix_corr [i,j]= corr_df.loc[row][column].mean().mean()"
      ],
      "execution_count": null,
      "outputs": []
    },
    {
      "cell_type": "code",
      "metadata": {
        "id": "uPd6ISm7fdRS"
      },
      "source": [
        "fig = plt.figure(figsize=(18,18))\n",
        "plt.imshow(class_matrix_corr)\n",
        "plt.xticks(range(40), categ_aranged, rotation=60, fontweight='bold', fontsize=12)\n",
        "plt.yticks(range(40), categ_aranged, fontweight='bold', fontsize=12)\n",
        "plt.colorbar()\n"
      ],
      "execution_count": null,
      "outputs": []
    },
    {
      "cell_type": "code",
      "metadata": {
        "id": "GT3jxGZH0HFT"
      },
      "source": [
        "actual_corr = corr\n",
        "corr_aranged = np.zeros((1,actual_corr.shape[0]))\n",
        "corr_categ = np.zeros((1,actual_corr.shape[0]))\n",
        "for categ in categ_aranged:\n",
        "  uniq_indx = np.where(test_label==categ)\n",
        "  #print(actual_corr[uniq_indx].shape)\n",
        "  corr_aranged= np.vstack((corr_aranged,actual_corr[uniq_indx]))"
      ],
      "execution_count": null,
      "outputs": []
    },
    {
      "cell_type": "code",
      "metadata": {
        "id": "OxvN-97v8An7"
      },
      "source": [
        "corr_aranged = corr_aranged[1:,:]\n",
        "plt.imshow(corr_aranged)\n",
        "plt.colorbar()"
      ],
      "execution_count": null,
      "outputs": []
    }
  ]
}