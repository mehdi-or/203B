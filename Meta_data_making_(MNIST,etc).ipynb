{
  "nbformat": 4,
  "nbformat_minor": 0,
  "metadata": {
    "colab": {
      "name": "Meta_data_making (MNIST, etc)",
      "provenance": [],
      "authorship_tag": "ABX9TyObYUhQkMnMXjMZdat0d5GX",
      "include_colab_link": true
    },
    "kernelspec": {
      "display_name": "Python 3",
      "name": "python3"
    },
    "language_info": {
      "name": "python"
    }
  },
  "cells": [
    {
      "cell_type": "markdown",
      "metadata": {
        "id": "view-in-github",
        "colab_type": "text"
      },
      "source": [
        "<a href=\"https://colab.research.google.com/github/mehdi-or/203B/blob/master/Meta_data_making_(MNIST%2Cetc).ipynb\" target=\"_parent\"><img src=\"https://colab.research.google.com/assets/colab-badge.svg\" alt=\"Open In Colab\"/></a>"
      ]
    },
    {
      "cell_type": "markdown",
      "metadata": {
        "id": "_iCXAlUC5a0b"
      },
      "source": [
        "Importing Packages"
      ]
    },
    {
      "cell_type": "code",
      "metadata": {
        "id": "UXog9Aws5GVU"
      },
      "source": [
        "import numpy as np\n",
        "import matplotlib.pyplot as plt\n",
        "import pandas as pd\n",
        "from pandas import DataFrame\n",
        "import csv\n",
        "from keras.datasets import cifar10, mnist\n",
        "from scipy.spatial.distance import cdist"
      ],
      "execution_count": null,
      "outputs": []
    },
    {
      "cell_type": "markdown",
      "metadata": {
        "id": "sNbbAUwbIiXU"
      },
      "source": [
        "mounting the Gdrive"
      ]
    },
    {
      "cell_type": "code",
      "metadata": {
        "colab": {
          "base_uri": "https://localhost:8080/"
        },
        "id": "LzHf0eypIkrB",
        "outputId": "8b5b99e1-1b38-49d2-e0ca-2ad79fa187c9"
      },
      "source": [
        "from google.colab import drive\n",
        "drive.mount('/content/gdrive', force_remount=True)"
      ],
      "execution_count": null,
      "outputs": [
        {
          "output_type": "stream",
          "text": [
            "Mounted at /content/gdrive\n"
          ],
          "name": "stdout"
        }
      ]
    },
    {
      "cell_type": "markdown",
      "metadata": {
        "id": "ienNDjA15hAe"
      },
      "source": [
        "Function for importing the data"
      ]
    },
    {
      "cell_type": "code",
      "metadata": {
        "id": "n8ih7BR2rCH1"
      },
      "source": [
        "def class_diagonal(categ, corr, num_trials, test_label):\n",
        "\n",
        "  diag_index = range(num_trials) # to find the index of the diagonals of the test-set matrix\n",
        "  corr_zero = np.copy(corr)\n",
        "  corr_zero[diag_index, diag_index]=0 # to remove the auto-correlaiton of the trials\n",
        "  corr_df = pd.DataFrame(corr_zero) # turning it to DataFrame to make my life easier by ALOT\n",
        "  corr_df.columns=test_label # to name the columns of the correlation\n",
        "  corr_df.index = test_label # to name the rows of the correlation\n",
        "  unique_class = np.unique(test_label) # to find what uniqw classes we have in the test-set\n",
        "  class_matrix_corr = np.zeros((len(unique_class),len(unique_class))) # this is the correlation of the mean values of the classes\n",
        "  #trial_matrix_corr = np.zeros(corr.shape) # this is the correlation of every trials based on the arranged categories\n",
        "  #trial_matrix_corr =np.zeros(corr.shape) # this is the correlation of every trials based on the arranged categories\n",
        "\n",
        "  for i, row in enumerate(categ):\n",
        "    for j, column in enumerate(categ):\n",
        "      #trial_matrix_corr [row, column]=  corr_df.loc[row][column]\n",
        "      if i==j:\n",
        "        n_examples = np.sqrt(corr_df.loc[row][column].size) # this is for the case of autocorrelation that we have already put zeros for them so it is fair to not consider them while getting the mean\n",
        "        #print( row + ' = ' + str(n_examples) + ' trials')\n",
        "        class_matrix_corr [i,j] = corr_df.loc[row][column].sum().sum()/(n_examples**2 - n_examples)\n",
        "      else:\n",
        "        class_matrix_corr [i,j]= corr_df.loc[row][column].mean().mean()\n",
        "  return(class_matrix_corr)"
      ],
      "execution_count": null,
      "outputs": []
    },
    {
      "cell_type": "code",
      "metadata": {
        "colab": {
          "background_save": true
        },
        "id": "oYIYeebfESXP"
      },
      "source": [
        "X_img = pd.read_csv('/content/gdrive/MyDrive/Colab Notebooks/dim_reduc_project/AE_plain/MNIST/X_test.csv', header=None ).values\n",
        "decoded_img0 = pd.read_csv('/content/gdrive/MyDrive/Colab Notebooks/dim_reduc_project/AE_plain/MNIST/decoded_num_'+str(10)+'.csv', header=None ).values\n",
        "decoded_img1 = pd.read_csv('/content/gdrive/MyDrive/Colab Notebooks/dim_reduc_project/AE_plus/MNIST/decoded_num_'+str(10)+'.csv', header=None ).values\n",
        "\n",
        "#BN0 = pd.read_csv('/content/gdrive/MyDrive/Colab Notebooks/dim_reduc_project/AE_plain/MNIST/BN_dim_'+str(50)+'.csv', header=None ).values\n",
        "#BN1 = pd.read_csv('/content/gdrive/MyDrive/Colab Notebooks/dim_reduc_project/AE_plus/MNIST/BN_dim_'+str(50)+'.csv', header=None ).values"
      ],
      "execution_count": null,
      "outputs": []
    },
    {
      "cell_type": "code",
      "metadata": {
        "colab": {
          "background_save": true
        },
        "id": "nmxiQEOlFRbf"
      },
      "source": [
        "decoded_img0 = decoded_img0.reshape(-1,28,28)\n",
        "decoded_img1 = decoded_img1.reshape(-1,28,28)\n",
        "X_img = X_img.reshape(-1,28,28)"
      ],
      "execution_count": null,
      "outputs": []
    },
    {
      "cell_type": "code",
      "metadata": {
        "colab": {
          "base_uri": "https://localhost:8080/",
          "height": 166
        },
        "id": "7zIhZjkMFj-g",
        "outputId": "eb0d9ca1-99ba-4cca-b5ab-0e17dac24ca1"
      },
      "source": [
        "fig, axs = plt.subplots(1,3)\n",
        "axs[0].imshow(decoded_img0[9022])\n",
        "axs[1].imshow(decoded_img1[9022])\n",
        "axs[2].imshow(X_img[9022])\n"
      ],
      "execution_count": null,
      "outputs": [
        {
          "output_type": "execute_result",
          "data": {
            "text/plain": [
              "<matplotlib.image.AxesImage at 0x7fd90499d0d0>"
            ]
          },
          "metadata": {
            "tags": []
          },
          "execution_count": 33
        },
        {
          "output_type": "display_data",
          "data": {
            "image/png": "[encoded data removed]",
            "text/plain": [
              "<Figure size 432x288 with 3 Axes>"
            ]
          },
          "metadata": {
            "tags": []
          }
        }
      ]
    },
    {
      "cell_type": "markdown",
      "metadata": {
        "id": "0yGz1JIsIr8R"
      },
      "source": [
        "To calculate the correlation between trials before doing anyting to the data"
      ]
    },
    {
      "cell_type": "code",
      "metadata": {
        "id": "jDoc1dmCIrjf"
      },
      "source": [
        "X_img = pd.read_csv('/content/gdrive/MyDrive/Colab Notebooks/dim_reduc_project/AE_plain/MNIST/X_test.csv', header=None ).values\n",
        "X_corr = np.corrcoef(X_img)\n",
        "diag_ind = range(X_corr.shape[0])\n",
        "X_corr_off_diag = np.copy(X_corr)\n",
        "X_corr_off_diag[diag_ind, diag_ind]=0 # removing the auto-correlation\n",
        "# the diagonal mean for the input is always \"1\"\n",
        "X_corr_off_diag_mean = sum(sum(X_corr_off_diag))/(X_corr.size-X_corr.shape[0]) # off diagonal correlation which is 0.3 "
      ],
      "execution_count": null,
      "outputs": []
    },
    {
      "cell_type": "code",
      "metadata": {
        "id": "44qcPJulW1Tx"
      },
      "source": [
        "#now we want to calculate the correlation between the classes NOT THE TRIALS\n",
        "y_img = pd.read_csv('/content/gdrive/MyDrive/Colab Notebooks/dim_reduc_project/AE_plain/MNIST/y_test.csv', header=None ).values\n",
        "#X_corr_class\n",
        "categs = np.unique(y_img)\n",
        "len_categs = len(categs)\n",
        "X_corr_categ = np.zeros((len_categs,len_categs))\n",
        "for categx in categs:\n",
        "  for categy in categs:\n",
        "    indx = np.where(y_img==categx)\n",
        "    X_corr_class = X_corr_off_diag[indx[0],:]\n",
        "    indy = np.where(y_img==categy)\n",
        "    X_corr_class = X_corr_class[:,indy[0]]\n",
        "    if categx==categy:\n",
        "      X_corr_categ[int(categx), int(categy)] = sum(sum(X_corr_class))/(X_corr_class.size-X_corr_class.shape[0])\n",
        "    else:\n",
        "       X_corr_categ[int(categx), int(categy)] = sum(sum(X_corr_class))/X_corr_class.size\n"
      ],
      "execution_count": null,
      "outputs": []
    },
    {
      "cell_type": "code",
      "metadata": {
        "colab": {
          "base_uri": "https://localhost:8080/"
        },
        "id": "zTRw77mZEM4f",
        "outputId": "95d7769b-1198-4e63-cf65-05f3f965b479"
      },
      "source": [
        "print (X_corr_off_diag_mean, np.diag(X_corr_categ).mean()) # between and within class correlation"
      ],
      "execution_count": null,
      "outputs": [
        {
          "output_type": "stream",
          "text": [
            "0.3063302083843259 0.45503698268327303\n"
          ],
          "name": "stdout"
        }
      ]
    },
    {
      "cell_type": "code",
      "metadata": {
        "id": "bh-Prn4dqbId"
      },
      "source": [
        "y_test = (y_img.astype(str).T).reshape(10000)\n",
        "categ = np.unique(y_test)\n",
        "num_trials = len(y_test)\n",
        "class_matrix_corr = class_diagonal(categ, X_corr_off_diag, num_trials, y_test)\n"
      ],
      "execution_count": null,
      "outputs": []
    },
    {
      "cell_type": "code",
      "metadata": {
        "colab": {
          "base_uri": "https://localhost:8080/",
          "height": 319
        },
        "id": "-flbuFh9rTsg",
        "outputId": "8b7d4f77-d1c6-4a8f-d906-68af7f068e4a"
      },
      "source": [
        "fig, axs = plt.subplots(1,2, figsize=(10,10))\n",
        "axs[0].imshow(X_corr_categ)\n",
        "axs[1].imshow(class_matrix_corr)"
      ],
      "execution_count": null,
      "outputs": [
        {
          "output_type": "execute_result",
          "data": {
            "text/plain": [
              "<matplotlib.image.AxesImage at 0x7fe9c49b51d0>"
            ]
          },
          "metadata": {
            "tags": []
          },
          "execution_count": 16
        },
        {
          "output_type": "display_data",
          "data": {
            "image/png": "[encoded data removed]",
            "text/plain": [
              "<Figure size 720x720 with 2 Axes>"
            ]
          },
          "metadata": {
            "tags": []
          }
        }
      ]
    },
    {
      "cell_type": "code",
      "metadata": {
        "id": "sNnyPMVpDIM_"
      },
      "source": [
        ""
      ],
      "execution_count": null,
      "outputs": []
    },
    {
      "cell_type": "markdown",
      "metadata": {
        "id": "SG2sXTB_rTm2"
      },
      "source": [
        ""
      ]
    },
    {
      "cell_type": "code",
      "metadata": {
        "id": "ScQzplRq5kyv"
      },
      "source": [
        "def load_data(dim=20):\n",
        "\n",
        "    #BN = pd.read_csv('/content/gdrive/MyDrive/Colab Notebooks/dim_reduc_project/AE_plain/CIFAR10/BN_dim_'+str(dim)+'.csv', header=None ).values\n",
        "    #decoded_img = pd.read_csv('/content/gdrive/MyDrive/Colab Notebooks/dim_reduc_project/AE_plain/CIFAR10/decoded_img_'+str(dim)+'.csv', header=None ).values\n",
        "    \n",
        "    decoded_img = pd.read_csv('/content/gdrive/MyDrive/Colab Notebooks/dim_reduc_project/AE_plain/MNIST/decoded_num_'+str(dim)+'.csv', header=None ).values\n",
        "    BN = pd.read_csv('/content/gdrive/MyDrive/Colab Notebooks/dim_reduc_project/AE_plain/MNIST/BN_dim_'+str(dim)+'.csv', header=None ).values\n",
        "\n",
        "    return(decoded_img, BN)"
      ],
      "execution_count": null,
      "outputs": []
    },
    {
      "cell_type": "markdown",
      "metadata": {
        "id": "Ihn63JXD5zd5"
      },
      "source": [
        "Function for calculating the between class correlation"
      ]
    },
    {
      "cell_type": "code",
      "metadata": {
        "id": "4UeFb7XY5yQH"
      },
      "source": [
        "def class_diagonal(categ, corr, num_trials, test_label):\n",
        "\n",
        "  diag_index = range(num_trials) # to find the index of the diagonals of the test-set matrix\n",
        "  corr_zero = np.copy(corr)\n",
        "  corr_zero[diag_index, diag_index]=0 # to remove the auto-correlaiton of the trials\n",
        "  corr_df = pd.DataFrame(corr_zero) # turning it to DataFrame to make my life easier by ALOT\n",
        "  corr_df.columns=test_label # to name the columns of the correlation\n",
        "  corr_df.index = test_label # to name the rows of the correlation\n",
        "  unique_class = np.unique(test_label) # to find what uniqw classes we have in the test-set\n",
        "  class_matrix_corr = np.zeros((len(unique_class),len(unique_class))) # this is the correlation of the mean values of the classes\n",
        "  #trial_matrix_corr = np.zeros(corr.shape) # this is the correlation of every trials based on the arranged categories\n",
        "  #trial_matrix_corr =np.zeros(corr.shape) # this is the correlation of every trials based on the arranged categories\n",
        "\n",
        "  for i, row in enumerate(categ):\n",
        "    for j, column in enumerate(categ):\n",
        "      #trial_matrix_corr [row, column]=  corr_df.loc[row][column]\n",
        "      if row==column:\n",
        "        n_examples = np.sqrt(corr_df.loc[row][column].size) # this is for the case of autocorrelation that we have already put zeros for them so it is fair to not consider them while getting the mean\n",
        "        #print( row + ' = ' + str(n_examples) + ' trials')\n",
        "        class_matrix_corr [i,j] = sum(sum(corr_df.loc[row][column]))/(n_examples**2 - n_examples)\n",
        "      else:\n",
        "        class_matrix_corr [i,j]= corr_df.loc[row][column].mean().mean()\n",
        "  return(class_matrix_corr)"
      ],
      "execution_count": null,
      "outputs": []
    },
    {
      "cell_type": "markdown",
      "metadata": {
        "id": "xQ8woYux6AuQ"
      },
      "source": [
        "Main body of the code"
      ]
    },
    {
      "cell_type": "code",
      "metadata": {
        "id": "G4bZnYRMm3CE"
      },
      "source": [
        "def my_function (A, B):\n",
        "  iter = A.shape[0]\n",
        "  shap = A.shape\n",
        "  pairwise_dist = np.ones((iter,iter))\n",
        "  for i in range(iter):\n",
        "    sample_mat = np.ones((iter,1))*A[i,:]\n",
        "    dist = np.sqrt(np.mean((sample_mat-B)**2, axis=1))\n",
        "    if (i%1000) == 0:\n",
        "      print(i)\n",
        "\n",
        "    pairwise_dist[:,i] = dist\n",
        "  return pairwise_dist"
      ],
      "execution_count": null,
      "outputs": []
    },
    {
      "cell_type": "code",
      "metadata": {
        "id": "gxjnI1ylpqiM"
      },
      "source": [
        "def EDM(A,B):\n",
        "  p1=np.sum(A**2, axis=1)[:, np.newaxis]\n",
        "  p2=np.sum(B**2, axis=1)\n",
        "  p3=-2*np.dot(A,B.T)\n",
        "  return np.round(np.sqrt(p1+p2+p3), 2)"
      ],
      "execution_count": null,
      "outputs": []
    },
    {
      "cell_type": "code",
      "metadata": {
        "id": "IioyRjeeeBBZ"
      },
      "source": [
        "(X_train, y_train), (X_test2, y_test2) = mnist.load_data()"
      ],
      "execution_count": null,
      "outputs": []
    },
    {
      "cell_type": "code",
      "metadata": {
        "id": "nwzEyMq26bVh"
      },
      "source": [
        "#(X_train, y_train), (X_test2, y_test2) = cifar10.load_data()\n",
        "(X_train, y_train), (X_test2, y_test2) = mnist.load_data()\n",
        "#accuracy = pd.read_csv('/content/gdrive/MyDrive/Colab Notebooks/dim_reduc_project/AE_plain/CIFAR10/accuVsdim.csv', header=None ).values\n",
        "#X_test = pd.read_csv('/content/gdrive/MyDrive/Colab Notebooks/dim_reduc_project/AE_plain/CIFAR10/X_test.csv', header=None ).values\n",
        "\n",
        "accuracy = pd.read_csv('/content/gdrive/MyDrive/Colab Notebooks/dim_reduc_project/AE_plain/MNIST/accuVsdim.csv', header=None ).values\n",
        "X_test = pd.read_csv('/content/gdrive/MyDrive/Colab Notebooks/dim_reduc_project/AE_plain/MNIST/X_test.csv', header=None ).values\n",
        "\n",
        "y_test = (y_test2.astype(str).T).reshape(10000)\n",
        "dims = [1500, 1000, 500, 250, 200, 150, 100, 60, 50, 30, 20, 15, 10, 5, 2] # mdimension of the BottleNeck\n",
        "\n",
        "corr_list = [] # a list of correlaion of the decoded examplars vs actual imput for subject i (900x900)\n",
        "corr_class_list = [] # a list of correlation of the categoreies for VT and decoded (40x40)\n",
        "corr_BN_class_list = [] # a list of correlation of the categoreies for BN(40x40)\n",
        "corr_BN_class_list_new = [] # a list of correlation of the categoreies for BN(40x40) based on \"to calculate the \"diag_corr - off_diag_corr\"\n",
        "categ = np.unique(y_test)\n",
        "num_trials = len(y_test)\n",
        "for dim in dims:\n",
        "    [decoded_img, BN] = load_data(dim)\n",
        "    corr0 = np.corrcoef(X_test, decoded_img)\n",
        "    indx = int(corr0.shape[0]/2) \n",
        "    corr=corr0[indx:,:indx] # we want only the part of the correlation matrix between the X_test and decoded_img\n",
        "    #dist = cdist(X_test, decoded_img, metric='euclidean')\n",
        "    #dist = EDM(X_test,decoded_img)\n",
        "    #corr = dist\n",
        "\n",
        "    diagonal_corr_mean= np.diagonal(corr).mean()\n",
        "    corr_list.append(diagonal_corr_mean) # listing the mean of the diagonal of correlation for each dimension\n",
        "    \n",
        "    class_matrix_corr = class_diagonal(categ, corr, num_trials, y_test)\n",
        "    diagonal_class_corr_mean = np.diagonal(class_matrix_corr).mean()\n",
        "    corr_class_list.append(diagonal_class_corr_mean) # the mean correlation of the the diagonal based on the categories (not examplars) for VT input to decoded VT output\n",
        "    #corr_dist = cdist(BN, BN, metric='euclidean')\n",
        "    #corr_dist = EDM(BN, BN)\n",
        "    #corr_BN = corr_dist\n",
        "    corr_BN = np.corrcoef(BN) \n",
        "    class_matrix_corr_BN = class_diagonal(categ, corr_BN, num_trials, y_test)\n",
        "    diagonal_class_corr_BN_mean = np.diagonal(class_matrix_corr_BN).mean()\n",
        "    corr_BN_class_list.append(diagonal_class_corr_BN_mean) # the mean correlation of the the diagonal based on the categories (not examplars) for BN\n",
        "\n",
        "    #to calculate the off_diag_corr\"\n",
        "    off_diag_indx = np.where(~np.eye(class_matrix_corr_BN.shape[0],dtype=bool))\n",
        "    diagonal_matrix_corr_off_diag_mean = class_matrix_corr_BN[off_diag_indx].mean()\n",
        "    diagonal_class_corr_BN_mean_new = diagonal_class_corr_BN_mean - diagonal_matrix_corr_off_diag_mean\n",
        "    corr_BN_class_list_new.append(diagonal_class_corr_BN_mean_new) # the mean correlation of the the \"digaonal - off_diagonal\" based on the categories (not examplars) for BN\n",
        "\n",
        "\n",
        "    fig, (ax1, ax2) = plt.subplots(1,2)\n",
        "    #ax1.imshow(class_matrix_corr, vmin = 0, vmax =0.9)\n",
        "    #ax2.imshow(class_matrix_corr_BN, vmin = 0, vmax =0.9)\n",
        "    ax1.imshow(class_matrix_corr)\n",
        "    ax2.imshow(class_matrix_corr_BN)\n",
        "    fig.suptitle('BN_dim= '+ str(dim))\n",
        "    ax1.set_title('for VT2VT')\n",
        "    ax2.set_title('for BN')"
      ],
      "execution_count": null,
      "outputs": []
    },
    {
      "cell_type": "code",
      "metadata": {
        "id": "SrFCuRsClrsr"
      },
      "source": [
        "from scipy.spatial.distance import cdist\n",
        "dist = cdist(X_test, decoded_img, metric='euclidean')"
      ],
      "execution_count": null,
      "outputs": []
    },
    {
      "cell_type": "code",
      "metadata": {
        "id": "O4Qt_iPtnKNI"
      },
      "source": [
        "plt.figure(figsize=(20,20))\n",
        "plt.imshow(1/dist[0:100,0:100])"
      ],
      "execution_count": null,
      "outputs": []
    },
    {
      "cell_type": "markdown",
      "metadata": {
        "id": "TFuSA2tSIFOh"
      },
      "source": [
        "visualization"
      ]
    },
    {
      "cell_type": "code",
      "metadata": {
        "colab": {
          "base_uri": "https://localhost:8080/",
          "height": 283
        },
        "id": "_7ofUG_kIHmD",
        "outputId": "483dec8f-e91b-4397-a5f0-5cb55774970e"
      },
      "source": [
        "normalized = (corr_BN_class_list_new-np.min(corr_BN_class_list_new))/(np.max(corr_BN_class_list_new)-np.min(corr_BN_class_list_new)) # to normalize the corr of BN\n",
        "\n",
        "index_name = ['1500', '1000', '500', '250', '200', '150', '100', '60', '50', '30', '20', '15', '10', '5', '2']\n",
        "col_name =['dimension','accuracy', 'corr','corr_class', 'corr_BN_class']\n",
        "dim1 = len(index_name) # number of the diffrent dimesion of BN (here is 15)\n",
        "dim2 = len(col_name)\n",
        "AE_plus_CIFAR10 = np.zeros((dim1, dim2))\n",
        "AE_plus_CIFAR10 = np.asarray([accuracy[:,0], accuracy[:,1], corr_list, corr_class_list, corr_BN_class_list_new]).T\n",
        "DataFrame(AE_plus_CIFAR10,index=index_name, columns=col_name).to_csv('/content/gdrive/MyDrive/Colab Notebooks/dim_reduc_project/AE_plain/plain_meta_data/MNIST_metadata.csv')    \n",
        "plt.figure()\n",
        "\n",
        "plt.plot(accuracy[:,0], accuracy[:,1], c= 'grey')\n",
        "\n",
        "plt.plot(accuracy[:,0], corr_list, c='red')\n",
        "plt.plot(accuracy[:,0], corr_class_list, c='orange')\n",
        "\n",
        "plt.plot(accuracy[:,0], corr_BN_class_list, c='green')\n",
        "#plt.plot(accuracy[:,0], corr_BN_class_list_new, c='black')\n",
        "#plt.xlim([0,200])"
      ],
      "execution_count": null,
      "outputs": [
        {
          "output_type": "execute_result",
          "data": {
            "text/plain": [
              "[<matplotlib.lines.Line2D at 0x7f701b8d2450>]"
            ]
          },
          "metadata": {
            "tags": []
          },
          "execution_count": 38
        },
        {
          "output_type": "display_data",
          "data": {
            "image/png": "[encoded data removed]",
            "text/plain": [
              "<Figure size 432x288 with 1 Axes>"
            ]
          },
          "metadata": {
            "tags": []
          }
        }
      ]
    }
  ]
}